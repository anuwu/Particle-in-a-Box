{
 "cells": [
  {
   "cell_type": "code",
   "execution_count": 96,
   "metadata": {},
   "outputs": [],
   "source": [
    "import autograd.numpy as np\n",
    "from autograd import grad, elementwise_grad\n",
    "import autograd.numpy.random as npr\n",
    "from autograd.misc.optimizers import adam"
   ]
  },
  {
   "cell_type": "code",
   "execution_count": 97,
   "metadata": {},
   "outputs": [],
   "source": [
    "x0 = 1\n",
    "x1 = 2\n",
    "\n",
    "def init_random_params(scale, layer_sizes, rs=npr.RandomState(42)):\n",
    "    return [(rs.randn(insize, outsize) * scale,   # weight matrix\n",
    "             rs.randn(outsize) * scale)           # bias vector\n",
    "            for insize, outsize in zip(layer_sizes[:-1], layer_sizes[1:])]\n",
    "\n",
    "def tanh(x):\n",
    "    return (2 / (1.0 + np.exp(-2*x))) - 1\n",
    "\n",
    "def psi(nnparams, inputs):\n",
    "    origInput = inputs\n",
    "    xTilde = (origInput - x0) / (x1 - x0)\n",
    "    \n",
    "    for W, b in nnparams:\n",
    "        outputs = np.dot(inputs, W) + b\n",
    "        inputs = tanh(outputs)    \n",
    "        \n",
    "    return (1-np.exp(xTilde * (1 - xTilde))) * outputs\n",
    "\n",
    "dpsi = elementwise_grad(psi, 1) # dpsi/dx \n",
    "ddpsi = elementwise_grad(dpsi, 1) # d^2psi/dx^2"
   ]
  },
  {
   "cell_type": "code",
   "execution_count": 98,
   "metadata": {},
   "outputs": [],
   "source": [
    "nnparams = init_random_params(0.1, layer_sizes=[1, 32, 1])\n",
    "params = {'nn': nnparams, 'E': 0.4}\n",
    "\n",
    "x = np.linspace(0, 1, 200)[:, None]\n",
    "\n",
    "def objective(params, step):\n",
    "    nnparams = params['nn']\n",
    "    E = params['E']        \n",
    "    # This is Schrodinger's eqn\n",
    "    zeq = -0.5 * psipp(nnparams, x)  - E*psi(nnparams, x) \n",
    "    y2 = psi(nnparams, x)**2\n",
    "    # This is a numerical trapezoid integration\n",
    "    prob = np.sum((y2[1:] + y2[0:-1]) / 2 * (x[1:] - x[0:-1]))\n",
    "    return np.mean(zeq**2) + (1.0 - prob)**2\n",
    "\n",
    "# This gives us feedback from the optimizer\n",
    "def callback(params, step, g):\n",
    "    if step % 1000 == 0:\n",
    "        print(\"Iteration {0:3d} objective {1}\".format(step,\n",
    "                                                      objective(params, step)))"
   ]
  },
  {
   "cell_type": "code",
   "execution_count": 99,
   "metadata": {},
   "outputs": [
    {
     "name": "stdout",
     "output_type": "stream",
     "text": [
      "Iteration   0 objective 0.9979496203934521\n",
      "Iteration 1000 objective 0.0005727100088359896\n",
      "Iteration 2000 objective 0.0001171679222694792\n",
      "Iteration 3000 objective 3.173461318184354e-05\n",
      "Iteration 4000 objective 1.022459198066395e-05\n",
      "Iteration 5000 objective 3.6300855722891745e-06\n",
      "0.003217322532237151\n"
     ]
    }
   ],
   "source": [
    "params = adam(grad(objective), params,\n",
    "              step_size=0.001, num_iters=5001, callback=callback) \n",
    "\n",
    "print(params['E'])"
   ]
  },
  {
   "cell_type": "code",
   "execution_count": 90,
   "metadata": {},
   "outputs": [
    {
     "data": {
      "text/plain": [
       "<matplotlib.legend.Legend at 0x7f918d785400>"
      ]
     },
     "execution_count": 90,
     "metadata": {},
     "output_type": "execute_result"
    },
    {
     "data": {
      "image/png": "[encoded data removed]",
      "text/plain": [
       "<Figure size 432x288 with 1 Axes>"
      ]
     },
     "metadata": {
      "needs_background": "light"
     },
     "output_type": "display_data"
    }
   ],
   "source": [
    "%matplotlib inline\n",
    "import matplotlib.pyplot as plt\n",
    "\n",
    "x = np.linspace(-6, 6)[:, None]\n",
    "y = psi(params['nn'], x)\n",
    "\n",
    "plt.plot(x, y, label='NN')\n",
    "plt.plot(x, (1/np.pi)**0.25 * np.exp(-x**2 / 2), 'r--', label='analytical')\n",
    "plt.legend()"
   ]
  },
  {
   "cell_type": "code",
   "execution_count": null,
   "metadata": {},
   "outputs": [],
   "source": []
  }
 ],
 "metadata": {
  "kernelspec": {
   "display_name": "Python 3",
   "language": "python",
   "name": "python3"
  },
  "language_info": {
   "codemirror_mode": {
    "name": "ipython",
    "version": 3
   },
   "file_extension": ".py",
   "mimetype": "text/x-python",
   "name": "python",
   "nbconvert_exporter": "python",
   "pygments_lexer": "ipython3",
   "version": "3.7.3"
  }
 },
 "nbformat": 4,
 "nbformat_minor": 2
}
