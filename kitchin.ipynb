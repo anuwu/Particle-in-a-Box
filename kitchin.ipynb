{
 "cells": [
  {
   "cell_type": "markdown",
   "metadata": {},
   "source": [
    "# Imports"
   ]
  },
  {
   "cell_type": "code",
   "execution_count": null,
   "metadata": {},
   "outputs": [],
   "source": [
    "import autograd.numpy as np\n",
    "from autograd import grad, elementwise_grad\n",
    "import autograd.numpy.random as npr\n",
    "import autograd.misc.optimizers as optims\n",
    "import os\n",
    "import importlib"
   ]
  },
  {
   "cell_type": "markdown",
   "metadata": {},
   "source": [
    "# Function Definitions"
   ]
  },
  {
   "cell_type": "code",
   "execution_count": null,
   "metadata": {},
   "outputs": [],
   "source": [
    "# Weight initialisation\n",
    "def init_random_params(scale, layer_sizes, rs=npr.RandomState(42)):\n",
    "    return [(rs.randn(insize, outsize) * scale,   # weight matrix\n",
    "             rs.randn(outsize) * scale)           # bias vector\n",
    "            for insize, outsize in zip(layer_sizes[:-1], layer_sizes[1:])]\n",
    "\n",
    "# Activation function\n",
    "def tanh(x):\n",
    "    return (2 / (1.0 + np.exp(-2*x))) - 1\n",
    "    #return np.log(1+np.exp(x))\n",
    "    #return np.exp(x)\n",
    "\n",
    "# Returns the NN output AFTER enforcing the boundary condition. This is the wavefunction (wf).\n",
    "def psi(nnparams, inputs):\n",
    "    origInput = inputs\n",
    "    xTilde = (origInput - x0) / (x1 - x0)\n",
    "    \n",
    "    for W, b in nnparams:\n",
    "        outputs = np.dot(inputs, W) + b\n",
    "        inputs = tanh(outputs)    \n",
    "        \n",
    "    # Enforcing the boundary conditions\n",
    "    return (1-xTilde)*psi0 + xTilde*psi1 + (1-np.exp(xTilde * (1 - xTilde))) * outputs\n",
    "\n",
    "\n",
    "dpsi = elementwise_grad(psi, 1) # Function for returning first derivative of wf (not used explicitly)\n",
    "ddpsi = elementwise_grad(dpsi, 1) # Second derivative of wf. "
   ]
  },
  {
   "cell_type": "code",
   "execution_count": null,
   "metadata": {},
   "outputs": [],
   "source": [
    "objCase = 8\n",
    "\n",
    "def energyStr (paramsE) :\n",
    "    Efloat = float(paramsE)\n",
    "    Eint = int(np.floor(Efloat))\n",
    "\n",
    "    if Efloat - Eint == 0 :\n",
    "        return \"E\" + str(int(np.floor(Efloat)))\n",
    "    else :\n",
    "        Estr = str(Efloat)\n",
    "        return \"E\" + str(int(np.floor(Efloat))) + \"p\" + Estr[Estr.find('.')+1:]\n",
    "\n",
    "# Objective function\n",
    "def objective(params, step):\n",
    "    nnparams = params['nn']\n",
    "    E = params['E']        \n",
    "    \n",
    "    wf = psi(nnparams,x)    # Wavefunction\n",
    "    diffeq = -0.5 * ddpsi(nnparams, x)  - E*wf  # Schrodinger equation in functional form\n",
    "    y2 = wf**2   # Probability density function\n",
    "    \n",
    "    # This is a numerical trapezoid integration\n",
    "    prob = np.sum((y2[1:] + y2[0:-1]) / 2 * (x[1:] - x[0:-1]))\n",
    "    \n",
    "    # First term is the MSE, second term is used to constrain the probability to 1.\n",
    "    if objCase == 1 :\n",
    "        return np.mean(diffeq**2) + (1 - prob)**2 + 4/prob + (prob**4)\n",
    "    elif objCase == 2 :\n",
    "        return np.mean(diffeq**2) + (1 - prob)**2 + 10/prob + (10/4)*(prob**4)\n",
    "    elif objCase == 3 :\n",
    "        return np.mean(diffeq**2) + 100*(1 - prob)**2 + 1000/prob + (1000/4)*(prob**4)\n",
    "    elif objCase == 4 :\n",
    "        return np.mean(diffeq**2) + (1-prob)**2 + (10/prob + 10*prob) + ((1/4)/prob**2 + (1/4)*prob**2)\n",
    "    elif objCase == 5 :\n",
    "        return np.mean(diffeq**2) + (1-prob)**2 + (20/prob + 2*prob) + (1/prob**2 + 10*prob**2)\n",
    "    elif objCase == 6 :\n",
    "        return np.mean(diffeq**2) + (1-prob)**2 + (120/prob + 120*prob) + (30/prob**2 + 30*prob**2) + (5/prob**3 + 5*prob**3)\n",
    "    elif objCase == 7 :\n",
    "        return np.mean(diffeq**2) + (1-prob)**2 + (120/prob + 120*prob) + (30/prob**2 + 30*prob**2) + (5/prob**3 + 5*prob**3) + (5/(8*prob**4) + (5/8)*prob**4)\n",
    "    elif objCase == 8 :\n",
    "        return np.mean(diffeq**2) + (1-prob)**2 + (10/prob + 10*prob) + (5/prob**2 + 5*prob**2) + ((5/6)/prob**3 + (5/6)*prob**3) + (5/(48*prob**4) + (5/48)*prob**4)\n",
    "\n",
    "\n",
    "trunc = -1\n",
    "\n",
    "iterList = []\n",
    "diffeqList = []\n",
    "diffeqDiffList = []\n",
    "probList = []\n",
    "lossList = []\n",
    "EList = []\n",
    "# Helper function for callback. Prints the following -\n",
    "# 1. Iteration no.\n",
    "# 2. MSE term\n",
    "# 3. Probability integral\n",
    "# 4. Loss\n",
    "# 5. Eigen-energy \n",
    "def objectiveDebug (params, step) :\n",
    "    nnparams = params['nn']\n",
    "    E = params['E']   \n",
    "    \n",
    "    wf = psi(nnparams,x)    # Wavefunction\n",
    "    diffeq = -0.5 * ddpsi(nnparams, x)  - E*wf  # Schrodinger equation in functional form\n",
    "    y2 = wf**2   # Probability density function\n",
    "    mean = np.mean(diffeq**2)  # MSE\n",
    "\n",
    "    # This is a numerical trapezoid integration\n",
    "    prob = np.sum((y2[1:] + y2[0:-1]) / 2 * (x[1:] - x[0:-1]))\n",
    "    \n",
    "    if objCase == 1 :\n",
    "        loss = mean + (1-prob)**2 + 4/prob + (prob**4)\n",
    "    elif objCase == 2 :\n",
    "        loss = mean + (1 - prob)**2 + 10/prob + (10/4)*(prob**4)\n",
    "    elif objCase == 3 :\n",
    "        loss = mean + 100*(1-prob)**2 + 1000/prob + (1000/4)*(prob**4)\n",
    "    elif objCase == 4 :\n",
    "        loss = mean + (1-prob)**2 + (10/prob + 10*prob) + ((1/4)/prob**2 + (1/4)*prob**2)\n",
    "    elif objCase == 5 :\n",
    "        loss = mean + (1-prob)**2 + (20/prob + 2*prob) + (1/prob**2 + 10*prob**2)\n",
    "    elif objCase == 6 :\n",
    "        loss = mean + (1-prob)**2 + (120/prob + 120*prob) + (30/prob**2 + 30*prob**2) + (5/prob**3 + 5*prob**3)\n",
    "    elif objCase == 7 :\n",
    "        loss = mean + (1-prob)**2 + (120/prob + 120*prob) + (30/prob**2 + 30*prob**2) + (5/prob**3 + 5*prob**3) + (5/(8*prob**4) + (5/8)*prob**4)\n",
    "    elif objCase == 8 :\n",
    "        loss = mean + (1-prob)**2 + (10/prob + 10*prob) + (5/prob**2 + 5*prob**2) + ((5/6)/prob**3 + (5/6)*prob**3) + (5/(48*prob**4) + (5/48)*prob**4)\n",
    "    \n",
    "    iterList.append (step)\n",
    "    diffeqList.append (mean)\n",
    "    probList.append (prob)\n",
    "    lossList.append (loss)\n",
    "    EList.append (float(params['E']))\n",
    "\n",
    "    print (\"Iteration \" + str(step) + \"\\ndiffeq = \" + str(mean) + \" prob = \" + str(prob))\n",
    "    print (\"loss = \" + str(loss) + \" E = \" + str(params['E']))\n",
    "\n",
    "# Callback function.\n",
    "def callback(params, step, g):\n",
    "    global trunc\n",
    "    global diffeqList\n",
    "    \n",
    "    if step % 100 == 0:\n",
    "        objectiveDebug (params, step)\n",
    "        \n",
    "        if step > 100 :\n",
    "            if trunc == -1 and diffeqList[-1] < 0.01 :\n",
    "                trunc = int(step/100)\n",
    "                print (\"Set at index = \" + str(trunc))            "
   ]
  },
  {
   "cell_type": "markdown",
   "metadata": {},
   "source": [
    "# Initialisation"
   ]
  },
  {
   "cell_type": "code",
   "execution_count": null,
   "metadata": {},
   "outputs": [],
   "source": [
    "psi0 = 0 # Value of first boundary\n",
    "psi1 = 0 # Value of second boundary\n",
    "L = 1 # Length of the well\n",
    "n = 7 # Energy level to be found\n",
    "scale = 2 # Scale for initialisation\n",
    "divs = 200 # divisions of the input space\n",
    "\n",
    "x0 = 0  # Position of first boundary\n",
    "x1 = L  # Position of second boundary"
   ]
  },
  {
   "cell_type": "code",
   "execution_count": null,
   "metadata": {},
   "outputs": [],
   "source": [
    "# Initialising the weights. They usually fall between 0 and 1 which causes the initial wavefunction\n",
    "# to have a small probability integral over the range. Hence, I've put a scale factor of 2 that changes gives it\n",
    "# a random (but sizeable) shape so that over the epochs, the probability integral converges to 1.\n",
    "nnparams = init_random_params(scale/(x1-x0), layer_sizes=[1, 32, 32, 1])\n",
    "\n",
    "# The ground state energy of the particle in a box is (pi^2)/2 = 4.9348. I've initialised E to 4.0\n",
    "# so that it converges to the eigenenergy quickly.\n",
    "initE = 260.0\n",
    "params = {'nn': nnparams, 'E': initE}\n",
    "\n",
    "# Input space\n",
    "x = np.linspace(x0, x1, divs)[:, None]\n",
    "\n",
    "# Setting up the name for saving files\n",
    "name = \"n\" + str(n)+ \"L\" + str(L) + energyStr(params['E'])"
   ]
  },
  {
   "cell_type": "markdown",
   "metadata": {},
   "source": [
    "# Optimization"
   ]
  },
  {
   "cell_type": "code",
   "execution_count": null,
   "metadata": {
    "scrolled": true
   },
   "outputs": [],
   "source": [
    "optims = importlib.reload (optims)\n",
    "params = optims.myAdam (grad(objective), params, callback=callback, step_size=0.001, diffeqList=diffeqList, probList=probList, diffeqDiffList = diffeqDiffList)"
   ]
  },
  {
   "cell_type": "markdown",
   "metadata": {},
   "source": [
    "# Plots"
   ]
  },
  {
   "cell_type": "code",
   "execution_count": null,
   "metadata": {},
   "outputs": [],
   "source": [
    "replot = 0\n",
    "if replot == 1 :\n",
    "    params['E'] = initE\n",
    "    n = 2\n",
    "    L = 1\n",
    "    name = \"n\" + str(n)+ \"L\" + str(L) + energyStr(params['E'])"
   ]
  },
  {
   "cell_type": "code",
   "execution_count": null,
   "metadata": {
    "scrolled": true
   },
   "outputs": [],
   "source": [
    "%matplotlib inline\n",
    "import matplotlib.pyplot as plt\n",
    "x = np.linspace(x0, x1)[:, None]\n",
    "y = psi(params['nn'], x)\n",
    "\n",
    "plt.plot(x, y, label='NN')  # Plotting the NN output\n",
    "plt.plot(x, np.sqrt(2/L) * np.sin(n*np.pi * (x-x0)/L), 'r--', label='analytical')  # Plotting the actual wavefuncion\n",
    "plt.legend()\n",
    "plt.savefig (name + \"_plot.png\")"
   ]
  },
  {
   "cell_type": "code",
   "execution_count": null,
   "metadata": {},
   "outputs": [],
   "source": [
    "fig = plt.figure (figsize=(10,10))\n",
    "plt.clf ()\n",
    "\n",
    "plt.subplot (2 , 2 , 1)\n",
    "plt.plot (iterList, diffeqList)\n",
    "plt.xlabel ('iterations')\n",
    "plt.ylabel ('diffeq')\n",
    "\n",
    "plt.subplot (2, 2, 2)\n",
    "plt.plot (iterList, probList)\n",
    "plt.xlabel ('iterations')\n",
    "plt.ylabel ('prob')\n",
    "\n",
    "plt.subplot (2, 2, 3)\n",
    "plt.plot (iterList, lossList)\n",
    "plt.xlabel ('iterations')\n",
    "plt.ylabel ('loss')\n",
    "\n",
    "plt.subplot (2, 2, 4)\n",
    "plt.plot (iterList, EList)\n",
    "plt.ylabel ('Eigenenergy')\n",
    "plt.xlabel ('iterations')\n",
    "plt.tight_layout()\n",
    "\n",
    "plt.savefig (name + \"_diagAll.png\")"
   ]
  },
  {
   "cell_type": "code",
   "execution_count": null,
   "metadata": {},
   "outputs": [],
   "source": [
    "if trunc != -1 :\n",
    "    fig = plt.figure (figsize=(10,10))\n",
    "\n",
    "    plt.subplot (2 , 2 , 1)\n",
    "    plt.plot (iterList[trunc:], diffeqList[trunc:])\n",
    "    plt.xlabel ('iterations')\n",
    "    plt.ylabel ('diffeq')\n",
    "\n",
    "    plt.subplot (2, 2, 2)\n",
    "    plt.plot (iterList[trunc:], probList[trunc:])\n",
    "    plt.xlabel ('iterations')\n",
    "    plt.ylabel ('prob')\n",
    "\n",
    "    plt.subplot (2, 2, 3)\n",
    "    plt.plot (iterList[trunc:], lossList[trunc:])\n",
    "    plt.xlabel ('iterations')\n",
    "    plt.ylabel ('loss')\n",
    "\n",
    "    plt.subplot (2, 2, 4)\n",
    "    plt.plot (iterList[trunc:], EList[trunc:])\n",
    "    plt.ylabel ('Eigenenergy')\n",
    "    plt.xlabel ('iterations')\n",
    "    plt.tight_layout()\n",
    "\n",
    "    plt.savefig (name + \"_diagTrunc\" + str(trunc) + \".png\")"
   ]
  },
  {
   "cell_type": "code",
   "execution_count": null,
   "metadata": {},
   "outputs": [],
   "source": [
    "fig = plt.figure (figsize=(5,5))\n",
    "plt.clf ()\n",
    "\n",
    "if trunc != -1 :\n",
    "    plt.subplot (2 , 1 , 1)\n",
    "    plt.plot (iterList, diffeqDiffList)\n",
    "    plt.xlabel ('iterations')\n",
    "    plt.ylabel ('diffeqDiff')\n",
    "\n",
    "    plt.subplot (2 , 1 , 2)\n",
    "    plt.plot (iterList[trunc:], diffeqDiffList[trunc:])\n",
    "    plt.xlabel ('iterations')\n",
    "    plt.ylabel ('diffeqDiff')\n",
    "else :\n",
    "    plt.plot (iterList, diffeqDiffList)\n",
    "    #plt.yticks ([min(diffeqDiffList), -10**-4, 10**-4, max(diffeqDiffList)])\n",
    "    plt.xlabel ('iterations')\n",
    "    plt.ylabel ('diffeqDiff')\n",
    "\n",
    "plt.tight_layout()\n",
    "plt.savefig (name + \"_diffeqDiff.png\")"
   ]
  },
  {
   "cell_type": "markdown",
   "metadata": {},
   "source": [
    "# Write to file"
   ]
  },
  {
   "cell_type": "code",
   "execution_count": null,
   "metadata": {},
   "outputs": [],
   "source": [
    "outfile = open(name + \"_info.txt\" , \"w\")\n",
    "\n",
    "fstr = \"diffeq = \" + str(round(diffeqList[-1],8)) + \\\n",
    "\"\\nprob = \" + str(round(probList[-1],8)) + \"\\nloss = \" + str(round(lossList[-1],8)) + \"\\neigE = \" + str(round(EList[-1],8)) + \"\\ndiffeqDiff = \" + str(round(diffeqDiffList[-1],8))\n",
    "    \n",
    "outfile.write (fstr)\n",
    "outfile.close ()"
   ]
  },
  {
   "cell_type": "code",
   "execution_count": null,
   "metadata": {},
   "outputs": [],
   "source": []
  }
 ],
 "metadata": {
  "kernelspec": {
   "display_name": "Python 3",
   "language": "python",
   "name": "python3"
  },
  "language_info": {
   "codemirror_mode": {
    "name": "ipython",
    "version": 3
   },
   "file_extension": ".py",
   "mimetype": "text/x-python",
   "name": "python",
   "nbconvert_exporter": "python",
   "pygments_lexer": "ipython3",
   "version": "3.7.3"
  }
 },
 "nbformat": 4,
 "nbformat_minor": 2
}
