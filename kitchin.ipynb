{
 "cells": [
  {
   "cell_type": "code",
   "execution_count": null,
   "metadata": {},
   "outputs": [],
   "source": [
    "import autograd.numpy as np\n",
    "from autograd import grad, elementwise_grad\n",
    "import autograd.numpy.random as npr\n",
    "from autograd.misc.optimizers import adam"
   ]
  },
  {
   "cell_type": "code",
   "execution_count": null,
   "metadata": {},
   "outputs": [],
   "source": [
    "x0 = 0\n",
    "x1 = 1\n",
    "\n",
    "def init_random_params(scale, layer_sizes, rs=npr.RandomState(42)):\n",
    "    return [(rs.randn(insize, outsize) * scale,   # weight matrix\n",
    "             rs.randn(outsize) * scale)           # bias vector\n",
    "            for insize, outsize in zip(layer_sizes[:-1], layer_sizes[1:])]\n",
    "\n",
    "def tanh(x):\n",
    "    return (2 / (1.0 + np.exp(-2*x))) - 1\n",
    "\n",
    "def psi(nnparams, inputs):\n",
    "    origInput = inputs\n",
    "    xTilde = (origInput - x0) / (x1 - x0)\n",
    "    \n",
    "    for W, b in nnparams:\n",
    "        outputs = np.dot(inputs, W) + b\n",
    "        inputs = tanh(outputs)    \n",
    "        \n",
    "    return (1-np.exp(xTilde * (1 - xTilde))) * outputs\n",
    "\n",
    "dpsi = elementwise_grad(psi, 1) # dpsi/dx \n",
    "ddpsi = elementwise_grad(dpsi, 1) # d^2psi/dx^2"
   ]
  },
  {
   "cell_type": "code",
   "execution_count": null,
   "metadata": {},
   "outputs": [],
   "source": [
    "nnparams = init_random_params(2, layer_sizes=[1, 32, 32, 1])\n",
    "params = {'nn': nnparams, 'E': 19.1}\n",
    "\n",
    "x = np.linspace(0, 1, 200)[:, None]\n",
    "\n",
    "def objective(params, step):\n",
    "    nnparams = params['nn']\n",
    "    E = params['E']        \n",
    "    \n",
    "    wave = psi(nnparams,x)\n",
    "    zeq = -0.5 * ddpsi(nnparams, x)  - E*wave\n",
    "    y2 = wave**2\n",
    "    \n",
    "    # This is a numerical trapezoid integration\n",
    "    prob = np.sum((y2[1:] + y2[0:-1]) / 2 * (x[1:] - x[0:-1]))\n",
    "    \n",
    "    return np.mean(zeq**2)\n",
    "\n",
    "def objectiveDebug (params, step) :\n",
    "    nnparams = params['nn']\n",
    "    E = params['E']        \n",
    "    # This is Schrodinger's eqn\n",
    "    zeq = -0.5 * ddpsi(nnparams, x)  - E*psi(nnparams, x) \n",
    "    y2 = psi(nnparams, x)**2\n",
    "    # This is a numerical trapezoid integration\n",
    "    prob = np.sum((y2[1:] + y2[0:-1]) / 2 * (x[1:] - x[0:-1]))\n",
    "    mean = np.mean(zeq**2)\n",
    "    \n",
    "    print (\"Iteration \" + str(step) + \" diffeq = \" + str(mean) + \" prob = \" + str(prob))\n",
    "    print (\"loss = \" + str(mean + (1-prob)**2) + \" E = \" + str(params['E']))\n",
    "    print (\"---------------------------------\")\n",
    "    \n",
    "\n",
    "# This gives us feedback from the optimizer\n",
    "def callback(params, step, g):\n",
    "    if step % 100 == 0:\n",
    "        #print(\"Iteration {0:3d} objective {1}\".format(step,\n",
    "                                                      #objective(params, step))\n",
    "        objectiveDebug (params, step)"
   ]
  },
  {
   "cell_type": "code",
   "execution_count": null,
   "metadata": {},
   "outputs": [],
   "source": [
    "params = adam(grad(objective), params,\n",
    "              step_size=0.001, num_iters=10001, callback=callback) \n",
    "\n",
    "print(params['E'])"
   ]
  },
  {
   "cell_type": "code",
   "execution_count": null,
   "metadata": {},
   "outputs": [],
   "source": [
    "%matplotlib inline\n",
    "import matplotlib.pyplot as plt\n",
    "\n",
    "x = np.linspace(0, 1)[:, None]\n",
    "y = psi(params['nn'], x)\n",
    "\n",
    "plt.plot(x, y, label='NN')\n",
    "plt.plot(x, np.sqrt(2) * np.sin(2*np.pi * x), 'r--', label='analytical')\n",
    "plt.legend()"
   ]
  },
  {
   "cell_type": "code",
   "execution_count": null,
   "metadata": {},
   "outputs": [],
   "source": [
    "print (min(y))"
   ]
  },
  {
   "cell_type": "code",
   "execution_count": null,
   "metadata": {},
   "outputs": [],
   "source": []
  }
 ],
 "metadata": {
  "kernelspec": {
   "display_name": "Python 3",
   "language": "python",
   "name": "python3"
  },
  "language_info": {
   "codemirror_mode": {
    "name": "ipython",
    "version": 3
   },
   "file_extension": ".py",
   "mimetype": "text/x-python",
   "name": "python",
   "nbconvert_exporter": "python",
   "pygments_lexer": "ipython3",
   "version": "3.7.3"
  }
 },
 "nbformat": 4,
 "nbformat_minor": 2
}
